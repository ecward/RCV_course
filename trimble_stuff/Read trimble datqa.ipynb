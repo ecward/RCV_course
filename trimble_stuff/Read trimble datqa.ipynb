{
 "cells": [
  {
   "cell_type": "code",
   "execution_count": 2,
   "metadata": {
    "collapsed": false
   },
   "outputs": [
    {
     "name": "stdout",
     "output_type": "stream",
     "text": [
      "Using matplotlib backend: Qt4Agg\n",
      "Populating the interactive namespace from numpy and matplotlib\n"
     ]
    }
   ],
   "source": [
    "%pylab\n"
   ]
  },
  {
   "cell_type": "code",
   "execution_count": 31,
   "metadata": {
    "collapsed": false
   },
   "outputs": [
    {
     "name": "stderr",
     "output_type": "stream",
     "text": [
      "/usr/local/lib/python2.7/dist-packages/scipy/io/matlab/mio.py:135: MatReadWarning: Duplicate variable name \"None\" in stream - replacing previous with new\n",
      "Consider mio5.varmats_from_mat to split file into single variable files\n",
      "  matfile_dict = MR.get_variables(variable_names)\n"
     ]
    }
   ],
   "source": [
    "import scipy.io as spio\n",
    "\n",
    "def loadmat(filename):\n",
    "    '''\n",
    "    this function should be called instead of direct spio.loadmat\n",
    "    as it cures the problem of not properly recovering python dictionaries\n",
    "    from mat files. It calls the function check keys to cure all entries\n",
    "    which are still mat-objects\n",
    "    '''\n",
    "    data = spio.loadmat(filename, struct_as_record=False, squeeze_me=True)\n",
    "    return _check_keys(data)\n",
    "\n",
    "def _check_keys(dict):\n",
    "    '''\n",
    "    checks if entries in dictionary are mat-objects. If yes\n",
    "    todict is called to change them to nested dictionaries\n",
    "    '''\n",
    "    for key in dict:\n",
    "        if isinstance(dict[key], spio.matlab.mio5_params.mat_struct):\n",
    "            dict[key] = _todict(dict[key])\n",
    "    return dict        \n",
    "\n",
    "def _todict(matobj):\n",
    "    '''\n",
    "    A recursive function which constructs from matobjects nested dictionaries\n",
    "    '''\n",
    "    dict = {}\n",
    "    for strg in matobj._fieldnames:\n",
    "        elem = matobj.__dict__[strg]\n",
    "        if isinstance(elem, spio.matlab.mio5_params.mat_struct):\n",
    "            dict[strg] = _todict(elem)\n",
    "        else:\n",
    "            dict[strg] = elem\n",
    "    return dict\n",
    "\n",
    "trimble_data = loadmat('/media/erik/3tb/RCV_data/arlanda_test_track_wireshark_18032016/Loop1.mat')"
   ]
  },
  {
   "cell_type": "code",
   "execution_count": 46,
   "metadata": {
    "collapsed": false
   },
   "outputs": [
    {
     "name": "stdout",
     "output_type": "stream",
     "text": [
      "[u'GPS/Append Timestamp to GPS/GPS_Latitude'\n",
      " u'GPS/Append Timestamp to GPS/GPS_LatitudeTimestamp'\n",
      " u'GPS/Append Timestamp to GPS/GPS_Longitude'\n",
      " u'GPS/Append Timestamp to GPS/GPS_LongitudeTimestamp'\n",
      " u'GPS/Append Timestamp to GPS/GPS_Altitude'\n",
      " u'GPS/Append Timestamp to GPS/GPS_AltitudeTimestamp'\n",
      " u'GPS/Append Timestamp to GPS/GPS_Heading'\n",
      " u'GPS/Append Timestamp to GPS/GPS_HeadingTimestamp'\n",
      " u'GPS/Append Timestamp to GPS/GPS_VehicleSpeed'\n",
      " u'GPS/Append Timestamp to GPS/GPS_VehicleSpeedTimestamp'\n",
      " u'GPS/Append Timestamp to GPS/GPS_Status_Gain'\n",
      " u'GPS/Append Timestamp to GPS/GPS_Quality_Gain'\n",
      " u'GPS/Append Timestamp to GPS/GPS_Satellites'\n",
      " u'GPS/Append Timestamp to GPS/UTCtime_hhmmsscc_Gain'\n",
      " u'GPS/Append Timestamp to GPS/UTCtime_ddmmyy_Gain' u'Time']\n"
     ]
    }
   ],
   "source": [
    "print trimble_data[\"Results\"][\"GPS\"][\"signalNames\"]"
   ]
  },
  {
   "cell_type": "code",
   "execution_count": 3,
   "metadata": {
    "collapsed": false
   },
   "outputs": [
    {
     "name": "stdout",
     "output_type": "stream",
     "text": [
      "(20804, 16)\n"
     ]
    }
   ],
   "source": [
    "from LatLongUTMconversion import *\n",
    "\n",
    "gps_fields = {'lat':0,'lat_ts':1,'lon':2,'lon_ts':3,'heading':6}\n",
    "\n",
    "#print trimble_data[\"Results\"][\"GPS\"][\"signalNames\"]\n",
    "data =  trimble_data[\"Results\"][\"GPS\"][\"data\"]\n",
    "print np.shape(data)\n",
    "lat = data[:,gps_fields['lat']]\n",
    "lat_ts = data[:,gps_fields['lat_ts']]\n",
    "lon = data[:,gps_fields['lon']]\n",
    "lon_ts = data[:,gps_fields['lon_ts']]\n",
    "lat_ok = lat>0\n",
    "lat = lat[lat_ok]\n",
    "lat_ts = lat_ts[lat_ok]\n",
    "lon = lon[lat_ok]\n",
    "lon_ts = lon_ts[lat_ok]\n",
    "heading = data[:,gps_fields['heading']]\n",
    "#heading from north in degrees (clockwise...)\n",
    "heading = heading[lat_ok]\n",
    "heading = np.pi/180*heading\n",
    "heading = np.pi/2-heading\n",
    "\n",
    "N = len(lat)\n",
    "utm = np.zeros((N,2)) #assume all the same zone\n",
    "for i in range(0,N):\n",
    "    (z,e,n) = LLtoUTM(23,lat[i],lon[i])\n",
    "    utm[i,0] = e\n",
    "    utm[i,1] = n\n",
    "\n",
    "\n",
    "\n",
    "plot(utm[:,0],utm[:,1])\n",
    "#plot(lat_ts/1.0e3-lon_ts/1.0e3)\n",
    "\n",
    "for i in range(0,N,40):\n",
    "    plot([utm[i,0],utm[i,0]+np.cos(heading[i])],\n",
    "         [utm[i,1],utm[i,1]+np.sin(heading[i])],'r')\n",
    "\n"
   ]
  },
  {
   "cell_type": "code",
   "execution_count": 59,
   "metadata": {
    "collapsed": false
   },
   "outputs": [
    {
     "data": {
      "text/plain": [
       "[<matplotlib.lines.Line2D at 0x7fb8ddf25c90>]"
      ]
     },
     "execution_count": 59,
     "metadata": {},
     "output_type": "execute_result"
    }
   ],
   "source": [
    "plot(np.diff(lat_ts))\n",
    "plot(np.diff(lat_ts),'.')"
   ]
  },
  {
   "cell_type": "code",
   "execution_count": 3,
   "metadata": {
    "collapsed": false
   },
   "outputs": [],
   "source": [
    "#Load velodyne timestamps (seconds since last hour)\n",
    "velodyne_secs = np.genfromtxt('sec_since_last_h_loop1.csv')"
   ]
  },
  {
   "cell_type": "code",
   "execution_count": 6,
   "metadata": {
    "collapsed": false
   },
   "outputs": [
    {
     "data": {
      "text/plain": [
       "[<matplotlib.lines.Line2D at 0x7f463921df90>]"
      ]
     },
     "execution_count": 6,
     "metadata": {},
     "output_type": "execute_result"
    }
   ],
   "source": [
    "plot(np.diff(velodyne_secs))\n",
    "plot(np.diff(velodyne_secs),'g.')"
   ]
  },
  {
   "cell_type": "code",
   "execution_count": 17,
   "metadata": {
    "collapsed": false
   },
   "outputs": [
    {
     "name": "stdout",
     "output_type": "stream",
     "text": [
      "ts_us1 =  2384240974\n",
      "ts_us2 =  2384241637\n",
      "diff_us =  663\n",
      "packet_cycle_us= 663.552\n",
      "scan_cycle_us= 52420.608\n",
      "scan_cycle_s= 0.052420608\n",
      "19.0764670261\n",
      "9.53823351305\n"
     ]
    }
   ],
   "source": [
    "#This says 0.2 seconds between scans.. which is wrong...\n",
    "#What is the time between packets in wireshark??? (79 packets/scan)\n",
    "\n",
    "#The time stamp represents the time of the first shot of \n",
    "#the first firing sequence\n",
    "\n",
    "#WS time 0.002664\n",
    "ts_chars1 = ['4e','a1','1c','8e']\n",
    "ts_us1 = int(''.join(ts_chars1[::-1]),16)\n",
    "\n",
    "#WS time 0.003316\n",
    "ts_chars2 = ['e5','a3','1c','8e']\n",
    "ts_us2 = int(''.join(ts_chars2[::-1]),16)\n",
    "\n",
    "print \"ts_us1 = \",ts_us1\n",
    "print \"ts_us2 = \",ts_us2\n",
    "print \"diff_us = \",ts_us2-ts_us1\n",
    "\n",
    "laser_cycle_us = 55.296\n",
    "data_blocks=12\n",
    "packet_cycle_us = data_blocks*laser_cycle_us\n",
    "\n",
    "print \"packet_cycle_us=\",packet_cycle_us\n",
    "\n",
    "packets_per_scan = 79\n",
    "\n",
    "print \"scan_cycle_us=\",packets_per_scan*packet_cycle_us\n",
    "print \"scan_cycle_s=\",packets_per_scan*packet_cycle_us/1.0e6\n",
    "\n",
    "print 1/0.052420608\n",
    "print 1/0.052420608/2"
   ]
  },
  {
   "cell_type": "code",
   "execution_count": 27,
   "metadata": {
    "collapsed": false
   },
   "outputs": [
    {
     "name": "stdout",
     "output_type": "stream",
     "text": [
      "ts_us1 =  2384296048\n",
      "ts_us2 =  2384296712\n",
      "ts_us3 =  2384430086\n",
      "ts_us4 =  2384430749\n",
      "diff_us =  664\n",
      "diff_us =  133374\n",
      "diff_us =  663\n"
     ]
    }
   ],
   "source": [
    "#WS time 0.057735\n",
    "ts_chars1 = ['70','78','1d','8e']\n",
    "ts_us1 = int(''.join(ts_chars1[::-1]),16)\n",
    "\n",
    "#WS time 0.191120\n",
    "ts_chars2 = ['08','7b','1d','8e']\n",
    "ts_us2 = int(''.join(ts_chars2[::-1]),16)\n",
    "\n",
    "ts_chars3 = ['06','84','1f','8e']\n",
    "ts_us3 = int(''.join(ts_chars3[::-1]),16)\n",
    "\n",
    "ts_chars4 = ['9d','86','1f','8e']\n",
    "ts_us4 = int(''.join(ts_chars4[::-1]),16)\n",
    "\n",
    "print \"ts_us1 = \",ts_us1\n",
    "print \"ts_us2 = \",ts_us2\n",
    "print \"ts_us3 = \",ts_us3\n",
    "print \"ts_us4 = \",ts_us4\n",
    "print \"diff_us = \",ts_us2-ts_us1\n",
    "print \"diff_us = \",ts_us3-ts_us2\n",
    "print \"diff_us = \",ts_us4-ts_us3"
   ]
  },
  {
   "cell_type": "code",
   "execution_count": 30,
   "metadata": {
    "collapsed": false
   },
   "outputs": [
    {
     "data": {
      "text/plain": [
       "[<matplotlib.lines.Line2D at 0x7f46379ec790>]"
      ]
     },
     "execution_count": 30,
     "metadata": {},
     "output_type": "execute_result"
    }
   ],
   "source": [
    "#microseconds from velodyne packets\n",
    "velodyne_us = np.genfromtxt('velodyne_us.csv')\n",
    "\n",
    "#plot(np.diff(velodyne_us))\n",
    "#plot(np.diff(velodyne_us),'.')\n",
    "\n",
    "plot(velodyne_us)\n",
    "plot(velodyne_us,'.')"
   ]
  },
  {
   "cell_type": "code",
   "execution_count": 29,
   "metadata": {
    "collapsed": false
   },
   "outputs": [
    {
     "data": {
      "text/plain": [
       "[<matplotlib.lines.Line2D at 0x7f4637ded3d0>]"
      ]
     },
     "execution_count": 29,
     "metadata": {},
     "output_type": "execute_result"
    }
   ],
   "source": [
    "velodyne_us2 = np.genfromtxt('velodyne_us2.csv')\n",
    "\n",
    "plot(np.diff(velodyne_us2))\n",
    "plot(np.diff(velodyne_us2),'.')"
   ]
  },
  {
   "cell_type": "code",
   "execution_count": 32,
   "metadata": {
    "collapsed": false
   },
   "outputs": [
    {
     "name": "stdout",
     "output_type": "stream",
     "text": [
      "t0 =  1072911600.0\n",
      "ts0/1e3 =  385418412.45\n",
      "curr_date =  18/03/2016 20:40:12.450000\n"
     ]
    }
   ],
   "source": [
    "import datetime\n",
    "import time\n",
    "\n",
    "#this is time in ms since 2004-01-01\n",
    "ts0 = lat_ts[0]\n",
    "\n",
    "s = \"01/01/2004\"\n",
    "t0 = time.mktime(datetime.datetime.strptime(s,\"%d/%m/%Y\").timetuple())\n",
    "\n",
    "print \"t0 = \",t0\n",
    "print \"ts0/1e3 = \",ts0/1e3\n",
    "\n",
    "t_unix = t0 + ts0/1e3\n",
    "\n",
    "curr_date = datetime.datetime.fromtimestamp(t_unix).strftime(\"%d/%m/%Y %H:%M:%S.%f\")\n",
    "print \"curr_date = \",curr_date\n"
   ]
  },
  {
   "cell_type": "code",
   "execution_count": 30,
   "metadata": {
    "collapsed": false
   },
   "outputs": [
    {
     "data": {
      "text/plain": [
       "[<matplotlib.lines.Line2D at 0x7faab81a8790>]"
      ]
     },
     "execution_count": 30,
     "metadata": {},
     "output_type": "execute_result"
    }
   ],
   "source": [
    "t_unix = t0 + lat_ts/1e3\n",
    "plot(np.diff(t_unix))\n",
    "plot(np.diff(t_unix),'g.')"
   ]
  },
  {
   "cell_type": "code",
   "execution_count": 33,
   "metadata": {
    "collapsed": false
   },
   "outputs": [
    {
     "name": "stdout",
     "output_type": "stream",
     "text": [
      "18/03/2016 20\n",
      "1458330012.45\n",
      "1458327600.0\n"
     ]
    },
    {
     "data": {
      "text/plain": [
       "(0.7, 1.3)"
      ]
     },
     "execution_count": 33,
     "metadata": {},
     "output_type": "execute_result"
    }
   ],
   "source": [
    "#Let's plot the seconds since last hour for the trimble data\n",
    "#and for the velodyne data\n",
    "curr_date_hour = datetime.datetime.fromtimestamp(t_unix).strftime(\"%d/%m/%Y %H\")\n",
    "print curr_date_hour\n",
    "start_hour_unixtime = time.mktime(datetime.datetime.strptime(curr_date_hour,\"%d/%m/%Y %H\").timetuple())\n",
    "\n",
    "print t_unix\n",
    "print start_hour_unixtime\n",
    "\n",
    "sec_since_last_h_trimble  = t0 + lat_ts/1e3 - start_hour_unixtime\n",
    "\n",
    "\n",
    "t_ticks = np.arange(np.min([velodyne_secs[0],sec_since_last_h_trimble[0]]),sec_since_last_h_trimble[-1]+1.0,0.001)\n",
    "num_ticks = np.size(t_ticks)\n",
    "\n",
    "trimble_trig = np.zeros(num_ticks)\n",
    "trimble_trig[np.searchsorted(t_ticks,sec_since_last_h_trimble)]=1.0\n",
    "\n",
    "velodyne_trig = np.zeros(num_ticks)\n",
    "velodyne_trig[np.searchsorted(t_ticks,velodyne_secs)]=1.0\n",
    "\n",
    "plot(t_ticks[trimble_trig==1.0],1.01*trimble_trig[trimble_trig==1.0],'r*')\n",
    "plot(t_ticks[velodyne_trig==1.0],0.99*velodyne_trig[velodyne_trig==1.0],'bo')\n",
    "\n",
    "ylim(0.7,1.3)\n",
    "\n",
    "#plot(sec_since_last_h_trimble,'r')\n",
    "#plot(velodyne_secs,'b')\n",
    "#print velodyne_secs\n",
    "\n"
   ]
  },
  {
   "cell_type": "code",
   "execution_count": 57,
   "metadata": {
    "collapsed": false
   },
   "outputs": [],
   "source": [
    "trimble_data1 = loadmat('/media/erik/3tb/RCV_data/arlanda_test_track_wireshark_18032016/Loop1.mat')\n",
    "trimble_data2 = loadmat('/media/erik/3tb/RCV_data/arlanda_test_track_wireshark_18032016/Loop2.mat')\n",
    "#trimble_data2 = loadmat('/media/erik/3tb/RCV_data/arlanda_test_track_wireshark_18032016/ThirdRunBehindTruckStephanos30and50.mat')"
   ]
  },
  {
   "cell_type": "code",
   "execution_count": 58,
   "metadata": {
    "collapsed": false
   },
   "outputs": [
    {
     "name": "stdout",
     "output_type": "stream",
     "text": [
      "lat_ts1[0] =  385418715764.0\n",
      "lat_ts2[0] =  385418715764.0\n"
     ]
    }
   ],
   "source": [
    "gps_fields = {'lat':0,'lat_ts':1,'lon':2,'lon_ts':3,'heading':6}\n",
    "data1 =  trimble_data1[\"Results\"][\"GPS\"][\"data\"]\n",
    "lat_ts1 = data1[:,gps_fields['lat_ts']]\n",
    "\n",
    "data2 =  trimble_data2[\"Results\"][\"GPS\"][\"data\"]\n",
    "lat_ts2 = data2[:,gps_fields['lat_ts']]\n",
    "\n",
    "print \"lat_ts1[0] = \",lat_ts1[0]\n",
    "print \"lat_ts2[0] = \",lat_ts2[0]"
   ]
  },
  {
   "cell_type": "code",
   "execution_count": 59,
   "metadata": {
    "collapsed": true
   },
   "outputs": [],
   "source": [
    "from LatLongUTMconversion import *\n",
    "\n",
    "\n",
    "def plot_trimble(data,pc='b'):\n",
    "    lat = data[:,gps_fields['lat']]\n",
    "    lat_ts = data[:,gps_fields['lat_ts']]\n",
    "    lon = data[:,gps_fields['lon']]\n",
    "    lon_ts = data[:,gps_fields['lon_ts']]\n",
    "    lat_ok = lat>0\n",
    "    lat = lat[lat_ok]\n",
    "    lat_ts = lat_ts[lat_ok]\n",
    "    lon = lon[lat_ok]\n",
    "    lon_ts = lon_ts[lat_ok]\n",
    "    heading = data[:,gps_fields['heading']]\n",
    "    #heading from north in degrees (clockwise...)\n",
    "    heading = heading[lat_ok]\n",
    "    heading = np.pi/180*heading\n",
    "    heading = np.pi/2-heading\n",
    "\n",
    "    N = len(lat)\n",
    "    utm = np.zeros((N,2)) #assume all the same zone\n",
    "    for i in range(0,N):\n",
    "        (z,e,n) = LLtoUTM(23,lat[i],lon[i])\n",
    "        utm[i,0] = e\n",
    "        utm[i,1] = n\n",
    "\n",
    "    plot(utm[:,0],utm[:,1],pc)\n",
    "\n",
    "plot_trimble(data1)\n",
    "plot_trimble(data2,'r')"
   ]
  }
 ],
 "metadata": {
  "kernelspec": {
   "display_name": "Python 2",
   "language": "python",
   "name": "python2"
  },
  "language_info": {
   "codemirror_mode": {
    "name": "ipython",
    "version": 2
   },
   "file_extension": ".py",
   "mimetype": "text/x-python",
   "name": "python",
   "nbconvert_exporter": "python",
   "pygments_lexer": "ipython2",
   "version": "2.7.6"
  }
 },
 "nbformat": 4,
 "nbformat_minor": 0
}
